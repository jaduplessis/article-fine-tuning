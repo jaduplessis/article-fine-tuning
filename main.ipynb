{
 "cells": [
  {
   "cell_type": "code",
   "execution_count": 1,
   "metadata": {},
   "outputs": [
    {
     "name": "stdout",
     "output_type": "stream",
     "text": [
      "Processing articles/raw/Why I (Still) Like the Serverless Framework over the CDK _ DeBrie Advisory.pdf\n",
      "Processing articles/raw/Event-Driven Architectures vs. Event-Based Compute in Serverless Applications _ DeBrie Advisory.pdf\n",
      "Processing articles/raw/Key Takeaways from the DynamoDB Paper _ DeBrie Advisory.pdf\n",
      "Processing articles/raw/How you should think about DynamoDB costs _ DeBrie Advisory.pdf\n",
      "Processing articles/raw/GraphQL, DynamoDB, and Single-table Design _ DeBrie Advisory.pdf\n",
      "Processing page 3/3\r"
     ]
    }
   ],
   "source": [
    "import sys\n",
    "import os\n",
    "\n",
    "sys.path.insert(0, os.path.abspath(os.path.join(os.getcwd(), '..')))\n",
    "\n",
    "from src.preprocessing.extract import recursive_extract_text\n",
    "\n",
    "recursive_extract_text('articles/raw/')"
   ]
  },
  {
   "cell_type": "code",
   "execution_count": null,
   "metadata": {},
   "outputs": [
    {
     "name": "stdout",
     "output_type": "stream",
     "text": [
      "Processing page 5/5\r"
     ]
    }
   ],
   "source": [
    "from src.preprocessing.extract import extract_text\n",
    "\n",
    "pdf_path = 'articles/raw/Building a Massively Scalable Serverless Chat Application with AWS AppSync _ by Sarah Hamilton _ Serverless Transformation _ Medium.pdf'\n",
    "output_path = 'Building a Massively Scalable Serverless Chat Application with AWS AppSync _ by Sarah Hamilton _ Serverless Transformation _ Medium.txt'\n",
    "\n",
    "extract_text(pdf_path, output_path)\n"
   ]
  },
  {
   "cell_type": "code",
   "execution_count": 2,
   "metadata": {},
   "outputs": [
    {
     "name": "stdout",
     "output_type": "stream",
     "text": [
      "Processing articles/parsed/Event-Driven Architectures vs. Event-Based Compute in Serverless Applications _ DeBrie Advisory.txt\n",
      "Processing articles/parsed/Key Takeaways from the DynamoDB Paper _ DeBrie Advisory.txt\n",
      "Processing articles/parsed/Why I (Still) Like the Serverless Framework over the CDK _ DeBrie Advisory.txt\n",
      "Processing articles/parsed/How you should think about DynamoDB costs _ DeBrie Advisory.txt\n",
      "Processing articles/parsed/GraphQL, DynamoDB, and Single-table Design _ DeBrie Advisory.txt\n"
     ]
    }
   ],
   "source": [
    "from src.preprocessing.chunk import recursive_chunk_text\n",
    "from src.preprocessing.chunk import chunk_text\n",
    "import os\n",
    "\n",
    "# delete articles/chunks/chunks.txt\n",
    "if os.path.exists('articles/chunks/chunks.txt'):\n",
    "    os.remove('articles/chunks/chunks.txt')\n",
    "    \n",
    "recursive_chunk_text('articles/parsed/')\n",
    "# chunk_text('articles/parsed/Building a Massively Scalable Serverless Chat Application with AWS AppSync _ by Sarah Hamilton _ Serverless Transformation _ Medium.txt')"
   ]
  },
  {
   "cell_type": "code",
   "execution_count": 4,
   "metadata": {},
   "outputs": [
    {
     "name": "stdout",
     "output_type": "stream",
     "text": [
      "Neutralising chunk: 29/29\r"
     ]
    }
   ],
   "source": [
    "from src.preprocessing.neutralise import create_neutralised_dataset\n",
    "\n",
    "neutraliser = create_neutralised_dataset('articles/chunks/chunks.txt', 'articles/neutralised/training_data.jsonl')"
   ]
  },
  {
   "cell_type": "code",
   "execution_count": 3,
   "metadata": {},
   "outputs": [
    {
     "name": "stdout",
     "output_type": "stream",
     "text": [
      "11512\n"
     ]
    }
   ],
   "source": [
    "import tiktoken\n",
    "\n",
    "def num_tokens_from_string(string: str, encoding_name: str) -> int:\n",
    "    encoding = tiktoken.get_encoding(encoding_name)\n",
    "    num_tokens = len(encoding.encode(string))\n",
    "    return num_tokens\n",
    "\n",
    "with open('articles/chunks/chunks.txt', 'r') as file:\n",
    "    chunks = file.read()\n",
    "\n",
    "print(num_tokens_from_string(chunks, \"cl100k_base\"))"
   ]
  },
  {
   "cell_type": "code",
   "execution_count": null,
   "metadata": {},
   "outputs": [],
   "source": [
    "\n",
    "        "
   ]
  }
 ],
 "metadata": {
  "kernelspec": {
   "display_name": "fine-tune-article",
   "language": "python",
   "name": "python3"
  },
  "language_info": {
   "codemirror_mode": {
    "name": "ipython",
    "version": 3
   },
   "file_extension": ".py",
   "mimetype": "text/x-python",
   "name": "python",
   "nbconvert_exporter": "python",
   "pygments_lexer": "ipython3",
   "version": "3.11.7"
  }
 },
 "nbformat": 4,
 "nbformat_minor": 2
}
