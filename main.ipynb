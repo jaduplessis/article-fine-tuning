{
 "cells": [
  {
   "cell_type": "code",
   "execution_count": 2,
   "metadata": {},
   "outputs": [
    {
     "name": "stdout",
     "output_type": "stream",
     "text": [
      "Processing articles/raw/Building a Massively Scalable Serverless Chat Application with AWS AppSync _ by Sarah Hamilton _ Serverless Transformation _ Medium.pdf\n",
      "Processing articles/raw/Serverless webhooks — Designing Lift _ by Frédéric Barthelet _ Serverless Transformation _ Medium.pdf\n",
      "Processing articles/raw/Building a Serverless Anti-Corruption Layer with CDK _ by Gregory Torrington _ Serverless Transformation _ Medium.pdf\n",
      "Processing articles/raw/Building Serverless Observability Tools With Custom Metrics and Dashboards in CDK _ by Luke Yianni _ Serverless Transformation _ Medium.pdf\n",
      "Processing articles/raw/Why Serverless will enable the Edge Computing Revolution _ by Ben Ellerby _ Serverless Transformation _ Medium.pdf\n",
      "Processing articles/raw/Serverless Image Object Detection at a Social Media Startup _ by Aiden Walton _ Serverless Transformation _ Medium.pdf\n",
      "Processing articles/raw/Enabling the Optimal Serverless Platform Team — CDK and Team Topologies _ by Ben Ellerby _ Serverless Transformation _ Medium.pdf\n",
      "Processing articles/raw/Building a Robust Serverless Messaging Service with Amazon EventBridge Pipes and CDK _ by Matt Carey _ Serverless Transformation _ Medium.pdf\n",
      "Processing articles/raw/Integration Testing Step Functions_ Using sls-test-tools _ by Joel Hamilton _ Serverless Transformation _ Medium.pdf\n",
      "Processing articles/raw/Finally, the end of YAML_ AWS CDK for Serverless _ by Spencer Mehta _ Serverless Transformation _ Medium.pdf\n",
      "Processing articles/raw/Run AWS on Your Laptop. Introduction to LocalStack. _ by Samsonk _ AWS Tip.pdf\n",
      "Processing page 9/9\r"
     ]
    }
   ],
   "source": [
    "import sys\n",
    "import os\n",
    "\n",
    "sys.path.insert(0, os.path.abspath(os.path.join(os.getcwd(), '..')))\n",
    "\n",
    "from src.preprocessing.extract import recursive_extract_text\n",
    "\n",
    "recursive_extract_text('articles/raw/')"
   ]
  },
  {
   "cell_type": "code",
   "execution_count": 3,
   "metadata": {},
   "outputs": [
    {
     "name": "stdout",
     "output_type": "stream",
     "text": [
      "Processing page 5/5\r"
     ]
    }
   ],
   "source": [
    "from src.preprocessing.extract import extract_text\n",
    "\n",
    "pdf_path = 'articles/raw/Building a Massively Scalable Serverless Chat Application with AWS AppSync _ by Sarah Hamilton _ Serverless Transformation _ Medium.pdf'\n",
    "output_path = 'Building a Massively Scalable Serverless Chat Application with AWS AppSync _ by Sarah Hamilton _ Serverless Transformation _ Medium.txt'\n",
    "\n",
    "extract_text(pdf_path, output_path)\n"
   ]
  },
  {
   "cell_type": "code",
   "execution_count": 4,
   "metadata": {},
   "outputs": [],
   "source": [
    "from src.preprocessing.chunk import recursive_chunk_text\n",
    "from src.preprocessing.chunk import chunk_text\n",
    "import os\n",
    "\n",
    "# delete articles/chunks/chunks.txt\n",
    "if os.path.exists('articles/chunks/chunks.txt'):\n",
    "    os.remove('articles/chunks/chunks.txt')\n",
    "    \n",
    "# recursive_chunk_text('articles/parsed/')\n",
    "chunk_text('articles/parsed/Building a Massively Scalable Serverless Chat Application with AWS AppSync _ by Sarah Hamilton _ Serverless Transformation _ Medium.txt')"
   ]
  },
  {
   "cell_type": "code",
   "execution_count": 1,
   "metadata": {},
   "outputs": [
    {
     "name": "stdout",
     "output_type": "stream",
     "text": [
      "Neutralising chunk: 1/7\n",
      "Neutralising chunk: 2/7\n",
      "Neutralising chunk: 3/7\n",
      "Neutralising chunk: 4/7\n",
      "Neutralising chunk: 5/7\n",
      "Neutralising chunk: 6/7\n",
      "Neutralising chunk: 7/7\n"
     ]
    }
   ],
   "source": [
    "from src.preprocessing.neutralising.llm import NeutraliserLLM\n",
    "\n",
    "neutraliser = NeutraliserLLM('articles/chunks/chunks.txt')\n",
    "neutralised_chunks = neutraliser.neutralise_chunks()"
   ]
  },
  {
   "cell_type": "code",
   "execution_count": 4,
   "metadata": {},
   "outputs": [],
   "source": [
    "with open('articles/neutralised/neutralised_chunks.txt', 'w') as f:\n",
    "    for chunk in neutralised_chunks:\n",
    "        f.write(chunk + '\\n')\n",
    "        "
   ]
  }
 ],
 "metadata": {
  "kernelspec": {
   "display_name": "fine-tune-article",
   "language": "python",
   "name": "python3"
  },
  "language_info": {
   "codemirror_mode": {
    "name": "ipython",
    "version": 3
   },
   "file_extension": ".py",
   "mimetype": "text/x-python",
   "name": "python",
   "nbconvert_exporter": "python",
   "pygments_lexer": "ipython3",
   "version": "3.11.7"
  }
 },
 "nbformat": 4,
 "nbformat_minor": 2
}
