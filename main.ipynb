{
 "cells": [
  {
   "cell_type": "code",
   "execution_count": 1,
   "metadata": {},
   "outputs": [
    {
     "name": "stdout",
     "output_type": "stream",
     "text": [
      "File PDF Visual Regression Testing — ‘The PuppetMaster’ Approach _ by Ben Ellerby _ The CRC Tech Blog _ Medium.txt already exists, skipping...\n",
      "File Are we getting infrastructure all wrong in the Serverless era_ _ by Yan Cui _ theburningmonk.com _ Medium.txt already exists, skipping...\n",
      "File The one mistake everyone makes when using Kinesis with Lambda _ by Yan Cui _ theburningmonk.com _ Medium.txt already exists, skipping...\n",
      "File How to secure CI_CD roles without burning production to the ground _ by Yan Cui _ theburningmonk.com _ Feb, 2024 _ Medium.txt already exists, skipping...\n",
      "File When to use Step Functions vs. doing it all in a Lambda function _ by Yan Cui _ theburningmonk.com _ Mar, 2024 _ Medium.txt already exists, skipping...\n",
      "File Building a Massively Scalable Serverless Chat Application with AWS AppSync _ by Sarah Hamilton _ Serverless Transformation _ Medium.txt already exists, skipping...\n",
      "File When to use API Gateway vs. Lambda Function URLs _ by Yan Cui _ theburningmonk.com _ Mar, 2024 _ Medium.txt already exists, skipping...\n",
      "Processing articles/raw/Empowering Enterprises with Serverless Generative AI_  Amazon Bedrock _ GenAI Days.pdf\n",
      "File Serverless webhooks — Designing Lift _ by Frédéric Barthelet _ Serverless Transformation _ Medium.txt already exists, skipping...\n",
      "File Announcing the Alpha Release of sls-test-tools — Bringing Simplicity to Serverless Integration Testing _ by Ben Ellerby _ Serverless Transformation _ Medium.txt already exists, skipping...\n",
      "Processing articles/raw/Testing GenAI Applications_ Addressing the Challenges of Non-deterministic Language Models _ GenAI Days.pdf\n",
      "File Building a Serverless Anti-Corruption Layer with CDK _ by Gregory Torrington _ Serverless Transformation _ Medium.txt already exists, skipping...\n",
      "File Service Ports_ Finding a Loosely Coupled Utopia with Event-Driven Serverless _ by Ben Ellerby _ Serverless Transformation _ Medium.txt already exists, skipping...\n",
      "File Building Serverless Observability Tools With Custom Metrics and Dashboards in CDK _ by Luke Yianni _ Serverless Transformation _ Medium.txt already exists, skipping...\n",
      "File Why Serverless will enable the Edge Computing Revolution _ by Ben Ellerby _ Serverless Transformation _ Medium.txt already exists, skipping...\n",
      "File Serverless service file Typescript definitions will never be outdated again! _ by Frédéric Barthelet _ Serverless Transformation _ Medium.txt already exists, skipping...\n",
      "File Serverless Image Object Detection at a Social Media Startup _ by Aiden Walton _ Serverless Transformation _ Medium.txt already exists, skipping...\n",
      "File Enabling the Optimal Serverless Platform Team — CDK and Team Topologies _ by Ben Ellerby _ Serverless Transformation _ Medium.txt already exists, skipping...\n",
      "File Building a Robust Serverless Messaging Service with Amazon EventBridge Pipes and CDK _ by Matt Carey _ Serverless Transformation _ Medium.txt already exists, skipping...\n",
      "File How to create Private DynamoDB tables accessible only within a VPC _ by Yan Cui _ theburningmonk.com _ Medium.txt already exists, skipping...\n",
      "File Serverless queues and workers — Designing Lift _ by Matthieu Napoli _ Serverless Transformation _ Medium.txt already exists, skipping...\n",
      "File Integration Testing Step Functions_ Using sls-test-tools _ by Joel Hamilton _ Serverless Transformation _ Medium.txt already exists, skipping...\n",
      "Processing articles/raw/Managing GenAI Risk_ The Supply Chain _ GenAI Days.pdf\n",
      "File Finally, the end of YAML_ AWS CDK for Serverless _ by Spencer Mehta _ Serverless Transformation _ Medium.txt already exists, skipping...\n",
      "File Run AWS on Your Laptop. Introduction to LocalStack. _ by Samsonk _ AWS Tip.txt already exists, skipping...\n"
     ]
    }
   ],
   "source": [
    "import sys\n",
    "import os\n",
    "\n",
    "sys.path.insert(0, os.path.abspath(os.path.join(os.getcwd(), '..')))\n",
    "\n",
    "from src.preprocessing.extract import recursive_extract_text\n",
    "\n",
    "recursive_extract_text('articles/raw/')"
   ]
  },
  {
   "cell_type": "code",
   "execution_count": null,
   "metadata": {},
   "outputs": [
    {
     "name": "stdout",
     "output_type": "stream",
     "text": [
      "Processing page 5/5\r"
     ]
    }
   ],
   "source": [
    "from src.preprocessing.extract import extract_text\n",
    "\n",
    "pdf_path = 'articles/raw/Building a Massively Scalable Serverless Chat Application with AWS AppSync _ by Sarah Hamilton _ Serverless Transformation _ Medium.pdf'\n",
    "output_path = 'Building a Massively Scalable Serverless Chat Application with AWS AppSync _ by Sarah Hamilton _ Serverless Transformation _ Medium.txt'\n",
    "\n",
    "extract_text(pdf_path, output_path)\n"
   ]
  },
  {
   "cell_type": "code",
   "execution_count": 2,
   "metadata": {},
   "outputs": [
    {
     "name": "stdout",
     "output_type": "stream",
     "text": [
      "Processing articles/parsed/How to secure CI_CD roles without burning production to the ground _ by Yan Cui _ theburningmonk.com _ Feb, 2024 _ Medium.txt\n",
      "Processing articles/parsed/When to use Step Functions vs. doing it all in a Lambda function _ by Yan Cui _ theburningmonk.com _ Mar, 2024 _ Medium.txt\n",
      "Processing articles/parsed/The one mistake everyone makes when using Kinesis with Lambda _ by Yan Cui _ theburningmonk.com _ Medium.txt\n",
      "Processing articles/parsed/When to use API Gateway vs. Lambda Function URLs _ by Yan Cui _ theburningmonk.com _ Mar, 2024 _ Medium.txt\n",
      "Processing articles/parsed/Empowering Enterprises with Serverless Generative AI_  Amazon Bedrock _ GenAI Days.txt\n",
      "Processing articles/parsed/Serverless webhooks — Designing Lift _ by Frédéric Barthelet _ Serverless Transformation _ Medium.txt\n",
      "Processing articles/parsed/Announcing the Alpha Release of sls-test-tools — Bringing Simplicity to Serverless Integration Testing _ by Ben Ellerby _ Serverless Transformation _ Medium.txt\n",
      "Processing articles/parsed/Building a Massively Scalable Serverless Chat Application with AWS AppSync _ by Sarah Hamilton _ Serverless Transformation _ Medium.txt\n",
      "Processing articles/parsed/PDF Visual Regression Testing — ‘The PuppetMaster’ Approach _ by Ben Ellerby _ The CRC Tech Blog _ Medium.txt\n",
      "Processing articles/parsed/Are we getting infrastructure all wrong in the Serverless era_ _ by Yan Cui _ theburningmonk.com _ Medium.txt\n",
      "Processing articles/parsed/Enabling the Optimal Serverless Platform Team — CDK and Team Topologies _ by Ben Ellerby _ Serverless Transformation _ Medium.txt\n",
      "Processing articles/parsed/Building a Robust Serverless Messaging Service with Amazon EventBridge Pipes and CDK _ by Matt Carey _ Serverless Transformation _ Medium.txt\n",
      "Processing articles/parsed/Managing GenAI Risk_ The Supply Chain _ GenAI Days.txt\n",
      "Processing articles/parsed/Finally, the end of YAML_ AWS CDK for Serverless _ by Spencer Mehta _ Serverless Transformation _ Medium.txt\n",
      "Processing articles/parsed/Run AWS on Your Laptop. Introduction to LocalStack. _ by Samsonk _ AWS Tip.txt\n",
      "Processing articles/parsed/How to create Private DynamoDB tables accessible only within a VPC _ by Yan Cui _ theburningmonk.com _ Medium.txt\n",
      "Processing articles/parsed/Serverless queues and workers — Designing Lift _ by Matthieu Napoli _ Serverless Transformation _ Medium.txt\n",
      "Processing articles/parsed/Integration Testing Step Functions_ Using sls-test-tools _ by Joel Hamilton _ Serverless Transformation _ Medium.txt\n",
      "Processing articles/parsed/Building a Serverless Anti-Corruption Layer with CDK _ by Gregory Torrington _ Serverless Transformation _ Medium.txt\n",
      "Processing articles/parsed/Service Ports_ Finding a Loosely Coupled Utopia with Event-Driven Serverless _ by Ben Ellerby _ Serverless Transformation _ Medium.txt\n",
      "Processing articles/parsed/Testing GenAI Applications_ Addressing the Challenges of Non-deterministic Language Models _ GenAI Days.txt\n",
      "Processing articles/parsed/Serverless Image Object Detection at a Social Media Startup _ by Aiden Walton _ Serverless Transformation _ Medium.txt\n",
      "Processing articles/parsed/Building Serverless Observability Tools With Custom Metrics and Dashboards in CDK _ by Luke Yianni _ Serverless Transformation _ Medium.txt\n",
      "Processing articles/parsed/Why Serverless will enable the Edge Computing Revolution _ by Ben Ellerby _ Serverless Transformation _ Medium.txt\n",
      "Processing articles/parsed/Serverless service file Typescript definitions will never be outdated again! _ by Frédéric Barthelet _ Serverless Transformation _ Medium.txt\n"
     ]
    }
   ],
   "source": [
    "from src.preprocessing.chunk import recursive_chunk_text\n",
    "from src.preprocessing.chunk import chunk_text\n",
    "import os\n",
    "\n",
    "# delete articles/chunks/chunks.txt\n",
    "if os.path.exists('articles/chunks/chunks.txt'):\n",
    "    os.remove('articles/chunks/chunks.txt')\n",
    "    \n",
    "recursive_chunk_text('articles/parsed/')\n",
    "# chunk_text('articles/parsed/Building a Massively Scalable Serverless Chat Application with AWS AppSync _ by Sarah Hamilton _ Serverless Transformation _ Medium.txt')"
   ]
  },
  {
   "cell_type": "code",
   "execution_count": 1,
   "metadata": {},
   "outputs": [
    {
     "name": "stdout",
     "output_type": "stream",
     "text": [
      "Neutralising chunk: 1/7\n",
      "Neutralising chunk: 2/7\n",
      "Neutralising chunk: 3/7\n",
      "Neutralising chunk: 4/7\n",
      "Neutralising chunk: 5/7\n",
      "Neutralising chunk: 6/7\n",
      "Neutralising chunk: 7/7\n"
     ]
    }
   ],
   "source": [
    "from src.preprocessing.neutralise import create_neutralised_dataset\n",
    "\n",
    "neutraliser = create_neutralised_dataset('articles/chunks/chunks.txt', 'articles/neutralised/training_data.jsonl')"
   ]
  },
  {
   "cell_type": "code",
   "execution_count": 4,
   "metadata": {},
   "outputs": [
    {
     "name": "stdout",
     "output_type": "stream",
     "text": [
      "31788\n"
     ]
    }
   ],
   "source": [
    "import tiktoken\n",
    "\n",
    "\n",
    "\n",
    "def num_tokens_from_string(string: str, encoding_name: str) -> int:\n",
    "    encoding = tiktoken.get_encoding(encoding_name)\n",
    "    num_tokens = len(encoding.encode(string))\n",
    "    return num_tokens\n",
    "\n",
    "with open('articles/chunks/chunks.txt', 'r') as file:\n",
    "    chunks = file.read()\n",
    "\n",
    "print(num_tokens_from_string(chunks, \"cl100k_base\"))"
   ]
  },
  {
   "cell_type": "code",
   "execution_count": null,
   "metadata": {},
   "outputs": [],
   "source": [
    "\n",
    "        "
   ]
  }
 ],
 "metadata": {
  "kernelspec": {
   "display_name": "fine-tune-article",
   "language": "python",
   "name": "python3"
  },
  "language_info": {
   "codemirror_mode": {
    "name": "ipython",
    "version": 3
   },
   "file_extension": ".py",
   "mimetype": "text/x-python",
   "name": "python",
   "nbconvert_exporter": "python",
   "pygments_lexer": "ipython3",
   "version": "3.11.7"
  }
 },
 "nbformat": 4,
 "nbformat_minor": 2
}
